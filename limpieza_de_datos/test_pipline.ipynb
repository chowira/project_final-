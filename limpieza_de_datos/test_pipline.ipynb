{
 "cells": [
  {
   "cell_type": "code",
   "execution_count": null,
   "id": "0a1c5dea",
   "metadata": {},
   "outputs": [],
   "source": [
    "import os\n",
    "import pandas as pd\n",
    "from datetime import datetime"
   ]
  },
  {
   "cell_type": "code",
   "execution_count": null,
   "id": "9359a623",
   "metadata": {},
   "outputs": [],
   "source": [
    "\n",
    "# Especifica la ruta de la carpeta\n",
    "carpeta = 'ruta/a/tu/carpeta'\n",
    "\n",
    "# Lista para almacenar DataFrames\n",
    "dataframes = []\n",
    "\n",
    "# Verifica si la carpeta existe\n",
    "if os.path.exists(carpeta):\n",
    "    # Itera sobre todos los archivos en la carpeta\n",
    "    for archivo in os.listdir(carpeta):\n",
    "        # Verifica si es un archivo CSV\n",
    "        if archivo.endswith('.csv'):\n",
    "            # Carga el archivo CSV en un DataFrame y lo agrega a la lista\n",
    "            df = pd.read_csv(os.path.join(carpeta, archivo))\n",
    "            dataframes.append(df)\n",
    "else:\n",
    "    print('La carpeta no existe.')\n",
    "\n",
    "# Combina todos los DataFrames en uno solo (opcional)\n",
    "if dataframes:\n",
    "    df_combinado = pd.concat(dataframes, ignore_index=True)\n",
    "    print(df_combinado)\n",
    "else:\n",
    "    print('No se encontraron archivos CSV en la carpeta.')"
   ]
  },
  {
   "cell_type": "code",
   "execution_count": null,
   "id": "84ccc5ae",
   "metadata": {},
   "outputs": [],
   "source": [
    "# Especifica la ruta de la carpeta\n",
    "carpeta = \"../data/Usuarios\"\n",
    "carpeta_2 = \"../data/tabala_de_hechos/Diciembre/Diciembre\"\n",
    "carpeta_3 = \"../data/canales\""
   ]
  },
  {
   "cell_type": "code",
   "execution_count": null,
   "id": "e09fff92",
   "metadata": {},
   "outputs": [],
   "source": [
    "# Verifica si la carpeta existe\n",
    "#Lista para almacenar DataFrames\n",
    "dataframes_2 = []  \n",
    "if os.path.exists(carpeta_2):\n",
    "    # Itera sobre todos los archivos en la carpeta\n",
    "    for archivo in os.listdir(carpeta_2):\n",
    "        # Verifica si es un archivo CSV\n",
    "        if archivo.endswith('.csv'):\n",
    "            # Carga el archivo CSV en un DataFrame y lo agrega a la lista\n",
    "            df = pd.read_csv(os.path.join(carpeta_2, archivo,))\n",
    "            dataframes_2.append(df)\n",
    "else:\n",
    "    print('La carpeta no existe.')\n"
   ]
  },
  {
   "cell_type": "code",
   "execution_count": null,
   "id": "a55302ea",
   "metadata": {},
   "outputs": [],
   "source": [
    "dataframes_2"
   ]
  },
  {
   "cell_type": "code",
   "execution_count": null,
   "id": "f06d3e15",
   "metadata": {},
   "outputs": [],
   "source": [
    "# Combina todos los DataFrames en uno solo (opcional)\n",
    "if dataframes_2:\n",
    "    df_combinado = pd.concat(dataframes_2, ignore_index=True)\n",
    "    print(df_combinado)\n",
    "else:\n",
    "    print('No se encontraron archivos CSV en la carpeta.')\n"
   ]
  },
  {
   "cell_type": "code",
   "execution_count": null,
   "id": "2cee561d",
   "metadata": {},
   "outputs": [],
   "source": [
    "\n",
    "import os\n",
    "import pandas as pd\n",
    "\n",
    "def combinar_csv_interacciones(ruta):\n",
    "    \"\"\"\n",
    "    Combina todos los archivos CSV en una carpeta específica en un solo DataFrame,\n",
    "    utilizando el separador adecuado (;).\n",
    "\n",
    "    Parámetros:\n",
    "        ruta (str): Ruta de la carpeta donde se encuentran los archivos CSV.\n",
    "\n",
    "    Retorna:\n",
    "        pd.DataFrame: DataFrame combinado con los datos de todos los CSV en la carpeta.\n",
    "        Si no se encuentran archivos válidos, retorna None.\n",
    "    \"\"\"\n",
    "    # Lista para almacenar los DataFrames procesados\n",
    "    dataframes = []\n",
    "\n",
    "    # Verificar si la ruta existe\n",
    "    if os.path.exists(ruta):\n",
    "        # Iterar sobre todos los archivos en la carpeta\n",
    "        for archivo in os.listdir(ruta):\n",
    "            # Verificar si el archivo tiene extensión .csv\n",
    "            if archivo.endswith('.csv'):\n",
    "                print(f\"Procesando archivo: {archivo}\")\n",
    "                \n",
    "                # Cargar el archivo en un DataFrame con el separador correcto\n",
    "                try:\n",
    "                    df = pd.read_csv(os.path.join(ruta, archivo), sep=';', on_bad_lines='skip', low_memory=False)\n",
    "                    # Agregar el DataFrame a la lista\n",
    "                    dataframes.append(df)\n",
    "                except Exception as e:\n",
    "                    print(f\"Error al procesar el archivo {archivo}: {e}\")\n",
    "        \n",
    "        # Combinar todos los DataFrames si existen\n",
    "        if dataframes:\n",
    "            df_combinado = pd.concat(dataframes, ignore_index=True)\n",
    "            return df_combinado\n",
    "        else:\n",
    "            print(\"No se encontraron archivos CSV válidos en la carpeta.\")\n",
    "            return None\n",
    "    else:\n",
    "        print(\"La carpeta no existe.\")\n",
    "        return None\n"
   ]
  },
  {
   "cell_type": "code",
   "execution_count": null,
   "id": "36fef6e6",
   "metadata": {},
   "outputs": [],
   "source": [
    "hab= combinar_csv_en_ruta(carpeta_2)"
   ]
  },
  {
   "cell_type": "code",
   "execution_count": null,
   "id": "27c4a653",
   "metadata": {},
   "outputs": [],
   "source": [
    "hab"
   ]
  },
  {
   "cell_type": "code",
   "execution_count": null,
   "id": "ff518b44",
   "metadata": {},
   "outputs": [],
   "source": [
    "# Lista para almacenar DataFrames junto con el nombre de archivo\n",
    "dataframes = []\n",
    "\n",
    "# Verifica si la carpeta existe\n",
    "if os.path.exists(carpeta):\n",
    "    # Itera sobre todos los archivos en la carpeta\n",
    "    for archivo in os.listdir(carpeta):\n",
    "        # Verifica si es un archivo CSV\n",
    "        if archivo.endswith('.csv'):\n",
    "            # Imprime el nombre del archivo\n",
    "            print(f\"Procesando archivo: {archivo}\")\n",
    "            # Carga el archivo CSV en un DataFrame y lo agrega a la lista\n",
    "            df = pd.read_csv(os.path.join(carpeta, archivo)sep=\";\", on_bad_lines=\"skip\")\n",
    "            # Guarda el DataFrame y el nombre del archivo como una tupla\n",
    "            dataframes.append((archivo, df))\n",
    "    if dataframes:\n",
    "        print(\"Archivos procesados con éxito.\")\n",
    "    else:\n",
    "        print(\"No se encontraron archivos CSV en la carpeta.\")\n",
    "else:\n",
    "    print(\"La carpeta no existe.\")\n"
   ]
  },
  {
   "cell_type": "code",
   "execution_count": null,
   "id": "86729696",
   "metadata": {},
   "outputs": [],
   "source": [
    "dataframes\n"
   ]
  },
  {
   "cell_type": "code",
   "execution_count": null,
   "id": "067a2c36",
   "metadata": {},
   "outputs": [],
   "source": [
    "import os\n",
    "import pandas as pd\n",
    "\n",
    "# Lista para almacenar DataFrames junto con la fecha extraída\n",
    "dataframes = []\n",
    "\n",
    "# Verifica si la carpeta existe\n",
    "if os.path.exists(carpeta):\n",
    "    # Itera sobre todos los archivos en la carpeta\n",
    "    for archivo in os.listdir(carpeta):\n",
    "        # Verifica si es un archivo CSV\n",
    "        if archivo.endswith('.csv'):\n",
    "            # Imprime el nombre del archivo\n",
    "            print(f\"Procesando archivo: {archivo}\")\n",
    "            \n",
    "            # Extrae solo la parte completa de la fecha del nombre del archivo\n",
    "            nombre_sin_extension = os.path.splitext(archivo)[0]  # Quita la extensión\n",
    "            partes = nombre_sin_extension.split('-')  # Divide el nombre por guion\n",
    "\n",
    "            # Verifica que haya al menos tres partes: prefijo, algo más, y la fecha completa\n",
    "            if len(partes) >= 3:  \n",
    "                # Reconstruye la fecha como año-mes-día\n",
    "                fecha = \"-\".join(partes[-3:])  # Toma las últimas tres partes y las une con guiones\n",
    "                print(f\"Fecha extraída: {fecha}\")  # Muestra la fecha extraída\n",
    "\n",
    "                # Carga el archivo CSV en un DataFrame\n",
    "                try:\n",
    "                    df = pd.read_csv(os.path.join(carpeta, archivo), sep=\";\", on_bad_lines='skip')\n",
    "\n",
    "                    # Agrega la fecha como una nueva columna al DataFrame\n",
    "                    df['Fecha'] = fecha\n",
    "\n",
    "                    # Guarda el DataFrame en la lista\n",
    "                    dataframes.append(df)\n",
    "                except Exception as e:\n",
    "                    print(f\"Error al procesar el archivo {archivo}: {e}\")\n",
    "            else:\n",
    "                print(f\"No se pudo identificar la fecha en el archivo: {archivo}\")\n",
    "    # Verifica si se procesaron DataFrames\n",
    "    if dataframes:\n",
    "        print(\"Archivos procesados con éxito.\")\n",
    "    else:\n",
    "        print(\"No se encontraron archivos CSV válidos en la carpeta.\")\n",
    "else:\n",
    "    print(\"La carpeta no existe.\")\n",
    "\n"
   ]
  },
  {
   "cell_type": "code",
   "execution_count": null,
   "id": "7566f59b",
   "metadata": {
    "scrolled": true
   },
   "outputs": [],
   "source": [
    "dataframes"
   ]
  },
  {
   "cell_type": "code",
   "execution_count": null,
   "id": "99568722",
   "metadata": {},
   "outputs": [],
   "source": [
    "\n",
    "\n",
    "# Combina todos los DataFrames en un único DataFrame\n",
    "df_combinado = pd.concat(dataframes, ignore_index=True)\n",
    "\n",
    "# Muestra el resultado\n",
    "print(df_combinado)\n"
   ]
  },
  {
   "cell_type": "code",
   "execution_count": null,
   "id": "80f6fd2d",
   "metadata": {},
   "outputs": [],
   "source": [
    "\n",
    "\n",
    "def combinar_csv_y_agregar_fecha(ruta):\n",
    "    \"\"\"\n",
    "    Combina todos los archivos CSV en una carpeta específica en un solo DataFrame\n",
    "    y agrega una columna con una fecha extraída del nombre del archivo.\n",
    "\n",
    "    Parámetros:\n",
    "        ruta (str): Ruta de la carpeta donde se encuentran los archivos CSV.\n",
    "\n",
    "    Retorna:\n",
    "        pd.DataFrame: DataFrame combinado con los datos de todos los CSV en la carpeta,\n",
    "                      incluyendo una columna \"Fecha\" extraída del nombre de los archivos.\n",
    "                      Si no se encuentran archivos válidos, retorna None.\n",
    "    \"\"\"\n",
    "    # Lista para almacenar DataFrames junto con la fecha\n",
    "    dataframes = []\n",
    "\n",
    "    # Verifica si la carpeta existe\n",
    "    if os.path.exists(ruta):\n",
    "        # Itera sobre todos los archivos en la carpeta\n",
    "        for archivo in os.listdir(ruta):\n",
    "            # Verifica si es un archivo CSV\n",
    "            if archivo.endswith('.csv'):\n",
    "                print(f\"Procesando archivo: {archivo}\")\n",
    "                \n",
    "                # Extrae la parte completa de la fecha del nombre del archivo\n",
    "                nombre_sin_extension = os.path.splitext(archivo)[0]\n",
    "                partes = nombre_sin_extension.split('-')  # Divide el nombre por guion\n",
    "\n",
    "                # Verifica que haya al menos tres partes\n",
    "                if len(partes) >= 3:\n",
    "                    fecha = \"-\".join(partes[-3:])  # Toma las últimas tres partes y las une con guiones\n",
    "                    print(f\"Fecha extraída: {fecha}\")\n",
    "                    \n",
    "                    # Carga el archivo CSV en un DataFrame\n",
    "                    try:\n",
    "                        df = pd.read_csv(os.path.join(ruta, archivo), sep=\";\", on_bad_lines='skip')\n",
    "                        # Agrega la fecha como una nueva columna al DataFrame\n",
    "                        df['fecha'] = fecha\n",
    "                        # Guarda el DataFrame en la lista\n",
    "                        dataframes.append(df)\n",
    "                    except Exception as e:\n",
    "                        print(f\"Error al procesar el archivo {archivo}: {e}\")\n",
    "                else:\n",
    "                    print(f\"No se pudo identificar la fecha en el archivo: {archivo}\")\n",
    "        # Combina todos los DataFrames si existen\n",
    "        if dataframes:\n",
    "            df_combinado = pd.concat(dataframes, ignore_index=True)\n",
    "            return df_combinado\n",
    "        else:\n",
    "            print(\"No se encontraron archivos CSV válidos en la carpeta.\")\n",
    "            return None\n",
    "    else:\n",
    "        print(\"La carpeta no existe.\")\n",
    "        return None\n"
   ]
  },
  {
   "cell_type": "code",
   "execution_count": null,
   "id": "ca4a8da7",
   "metadata": {},
   "outputs": [],
   "source": [
    "df = combinar_csv_y_agregar_fecha(carpeta)"
   ]
  },
  {
   "cell_type": "code",
   "execution_count": null,
   "id": "dd29ef86",
   "metadata": {},
   "outputs": [],
   "source": [
    "def procesar_dataframe_usuarios(dataframe):\n",
    "    \"\"\"\n",
    "    Procesa un DataFrame de usuarios renombrando la columna 'id' a 'idusuarios'\n",
    "    y conservando únicamente las columnas especificadas.\n",
    "\n",
    "    Parámetros:\n",
    "        dataframe (pd.DataFrame): El DataFrame que se desea procesar.\n",
    "\n",
    "    Retorna:\n",
    "        pd.DataFrame: El DataFrame procesado con las columnas ajustadas.\n",
    "    \"\"\"\n",
    "    # Renombrar la columna 'id' a 'idusuarios'\n",
    "    dataframe.rename(columns={'id': 'idusuarios'}, inplace=True)\n",
    "    \n",
    "    # Conservar solo las columnas especificadas\n",
    "    columnas_a_conservar = ['idusuarios', 'active', 'registered', 'city', 'country', 'fecha']\n",
    "    dataframe = dataframe.loc[:, columnas_a_conservar]\n",
    "    \n",
    "    return dataframe\n"
   ]
  },
  {
   "cell_type": "code",
   "execution_count": null,
   "id": "8dd165f4",
   "metadata": {},
   "outputs": [],
   "source": [
    "df= procesar_dataframe_usuarios(df)"
   ]
  },
  {
   "cell_type": "code",
   "execution_count": null,
   "id": "5ecb44b4",
   "metadata": {},
   "outputs": [],
   "source": [
    "estados_venezuela= {\n",
    "    \"Amazonas\": [\"puerto ayacucho\", \"guayana\"],\n",
    "    \"Anzoátegui\": [\"el trigre\", \"anaco\", \"barcelona\", \"el tigrito\", \"lecheria\", \"puerto la cruz\", \"aragua de barcelona\"],\n",
    "    \"Apure\": [\"san fernando de apure\", \"san fernando\", \"araure\"],\n",
    "    \"Aragua\": [\"maracay\", \"palo negro\", \"turmero\", \"maeacay\", \"la victoria\", \"cagua\", \"la morita1\", \"aragua\", \"la victoria edo aragua\", \"maracay.\", \"el consejo estado aragua\", \"santa rita maracay\", \"turmero, estado aragua\", \"la victoria aragua\", \"maracay- turmero\", \"palo negrro\", \"santa rita aragua\", \"yagua\", \"palo negro, aragua\", \"el limón\", \"maracay edo aragua\", \"msracay\", \"msracay\", \"palo negro - aragua\", \"maracay aragua\", \"caguas\"],\n",
    "    \"Barinas\": [\"barinas\"],\n",
    "    \"Bolívar\": [\"puerto ordaz\", \"ciudad bolivar\", \"ciudad guayana\", \"ciudad bolívar\"],\n",
    "    \"Carabobo\": [\"moron\", \"valencia\", \"guacara\", \"montalban\", \"puerto cabello\", \"carabobo\", \"naguanagua\", \"puerto cabello carabobo\", \"carrizal\", \"san diego\", \"los guayos\", \"valencia edo. carabobo\", \"valencia, naguanagua\", \"valencia. venezuela\", \"valencia. venezuela\", \"san joaquin\", \"san diego de los altos\", \"valencia estado carabobo\", \"valencia, los guayos\", \"valencia, edo. carabobo\", \"san joaquin, estado carabobo\", \"ciudad alianza\", \"naguanagua. estado carabobo\", \"puerto cabell\", \"san joaquin*\", \"san joaquin\", \"valencia, carabobo\", \"nagauanagua\", \"ciudad zamora mzna. 4-f\", \"san digo\", \"san diego carabobo\", \"nagua\", \"urb. el bosque. valencia edo. carabobo\", \"guacara edo carabobo\", \"puerto cabello\", \"valenciq\",\"valencia,  naguanagua\",\"valencia , los guayos\",\"san joaquín\",\"guacaipuro\",\"puerto  cabello\"],\n",
    "    \"Cojedes\": [\"san carlos\", \"tinaco\", \"tinaquillo\"],\n",
    "    \"Delta Amacuro\": [\"tucupita\"],\n",
    "    \"Desconocidos\": [\"NaN\",\"desconocido\", \"primero de mayo\", \"venezuela\", \"urb. los cocos sur\", \"la vaquera\", \"cjto. res. ops torre 3\", \"468\", \"el consejo\", \"palavecino\", \"allen\", \"san rafael de carvajal,/ carvajal\", \"11201663\", \"mario briceño iragorry\", \"cordero lomas blanca\", \"la concepcion\", \"13912257\", \"barcel\", \"el concejo\", \"libertad\", \"30\", \"275\", \"hhhhhh\", \"plc\", \"la concepción\", \"parroquia santa teresa\", \"peribeca\", \"san rafael del mojan\", \"4\", \"ciudad\", \"ed. mar azul t-b\"],\n",
    "    \"Falcón\": [\"punto fijo\", \"churuguara\", \"coro\", \"chichiriviche\", \"la vela de coro\", \"santa ana de coro\"],\n",
    "    \"Guárico\": [\"san juan de los morros\", \"altagracia de orituco\"],\n",
    "    \"Lara\": [\"carora\", \"cabudare\", \"barquisimeto\", \"barquisimeto gxtest2al\", \"barquisimeto gxtes2al\", \"cabudare estado lara\", \"iribarren\", \"cabude\", \"barquisimeto*\", \"bqto\"],\n",
    "    \"Mérida\": [\"merida\", \"mérida\", \"el vigia\", \"ejido, mérida\", \"mérida, venezuela\"],\n",
    "    \"Miranda\": [\"guanares\", \"charallave\", \"los teques\", \"guatire\", \"miranda\", \"san antonio de los altos\", \"carrizal, estado miranda\", \"guarenas, miranda\", \"cuarenas\", \"guarenas, edo. miranda\", \"ciudad casarapa\", \"ocumare del tuy\", \"mariche\", \"guatires\", \"san antonio\", \"san josé d/los altos\", \"gurenas\", \"san josé de los altos\", \"los teqes\", \"guatire, edo miranda, venezuela\", \"*los teques\", \"guatire, edo. miranda. venezuela\", \"altos mirandinos\", \"higuerote\"],\n",
    "    \"Monagas\": [\"maturin\", \"maturín\"],\n",
    "    \"Nueva Esparta\": [\"margarita\", \"porlamar\", \"pampatar\", \"catia la mar\"],\n",
    "    \"Portuguesa\": [\"guanare\", \"acarigua\"],\n",
    "    \"Sucre\": [\"cumana\", \"cumanacoa\", \"municipio sucre\", \"carupano\", \"cumaná\", \"sucre\"],\n",
    "    \"Táchira\": [\"san cristobal\", \"san cristóbal\", \"tachira\", \"capacho\", \"tariba\", \"los rastrojos\", \"cordero\", \"táriba\", \"caneyes\", \"táchira\", \"tucape\", \"san rafael cárdenas tachira venezuela\", \"san cristobal edo tachira\", \"capacho viejo\", \"san cristobal de tac\"],\n",
    "    \"Trujillo\": [\"valera\"],\n",
    "    \"Vargas (La Guaira)\": [\"la guaira\", \"vargas\", \"maiquetía, estado la guaira\"],\n",
    "    \"Yaracuy\": [\"san felipe\", \"chivacoa\", \"yaritagua\"],\n",
    "    \"Zulia\": [\"cabimas\", \"maracaibo\", \"zulia\", \"ciudad ojeda\", \"santa rita\", \"ciudad ojeda.\", \"ojeda\", \"maraxaibo\", \"maracaibo*\"],\n",
    "    \"Distrito Capital (Caracas)\": [\"caracas\", \"caracass\", \"el hatillo\", \"csracas\", \"la tahona\", \"edif virrey, calle caurimare , caracas\", \"gran caracas\", \"caracas venezuela\", \"caricuao\", \"baruta\", \"libertador\", \"caracas gxtest2al\", \"distrito capital\", \"caracs\", \"caracas (miranda)\", \"maracas\", \"el hatillo-la unión\", \"baracas\", \"chacao\", \"la candelaria\", \"carcas\", \"municipio el hatillo\", \"caracas-baruta\", \"ccs\", \"la candelaria mbi\", \"el hatillo la unión corralito\", \"caraacs\", \"lagunillas\", \"caracas09966564\", \"caracas,\", \"caracas, el hatillo\", \"lagunillas\", \"urb. libertadores\", \"cara as\", \"caracas (d.c.)\"],\n",
    "    \"Internacionales\": [\"santiago\", \"la paz\", \"palmira\", \"ejido\", \"bogota\", \"sn francisco\", \"chile\", \"zamora\", \"miami\", \"san francisco\", \"girardot\", \"san. francisco\"]\n",
    "}\n"
   ]
  },
  {
   "cell_type": "code",
   "execution_count": null,
   "id": "2b4b1e51",
   "metadata": {},
   "outputs": [],
   "source": [
    "def mapear_ciudades_a_estados(df, estados_venezuela):\n",
    "    \"\"\"\n",
    "    Mapea las ciudades en la columna 'city' a sus estados correspondientes\n",
    "    según el diccionario proporcionado.\n",
    "\n",
    "    Parámetros:\n",
    "        df (pd.DataFrame): DataFrame que contiene la columna 'city'.\n",
    "        estados_venezuela (dict): Diccionario que relaciona los estados con sus ciudades.\n",
    "\n",
    "    Retorna:\n",
    "        pd.DataFrame: DataFrame con la columna 'city' corregida.\n",
    "    \"\"\"\n",
    "    # Crear un diccionario inverso donde cada ciudad apunta a su estado\n",
    "    ciudad_a_estado = {ciudad.lower(): estado for estado, ciudades in estados_venezuela.items() for ciudad in ciudades}\n",
    "    \n",
    "    # Aplicar el mapeo en la columna 'city'\n",
    "    df['city'] = df['city'].str.lower().map(ciudad_a_estado).fillna(df['city'])\n",
    "    \n",
    "    return df\n"
   ]
  },
  {
   "cell_type": "code",
   "execution_count": null,
   "id": "15d78982",
   "metadata": {},
   "outputs": [],
   "source": [
    "def rellenar_valores_nulos(df):\n",
    "    \"\"\"\n",
    "    Rellena los valores nulos en la columna 'city' con 'DESCONOCIDOS'.\n",
    "\n",
    "    Parámetros:\n",
    "        df (pd.DataFrame): DataFrame que contiene la columna 'city'.\n",
    "\n",
    "    Retorna:\n",
    "        pd.DataFrame: DataFrame con los valores nulos de 'city' rellenados.\n",
    "    \"\"\"\n",
    "    df['city'] = df['city'].fillna(\"Desconocidos\")\n",
    "    return df\n"
   ]
  },
  {
   "cell_type": "code",
   "execution_count": null,
   "id": "af9957b0",
   "metadata": {},
   "outputs": [],
   "source": [
    "mapear_ciudades_a_estados(df,estados_venezuela)"
   ]
  },
  {
   "cell_type": "code",
   "execution_count": null,
   "id": "52dca515",
   "metadata": {},
   "outputs": [],
   "source": [
    "rellenar_valores_nulos(df)"
   ]
  },
  {
   "cell_type": "code",
   "execution_count": null,
   "id": "52d17ff3",
   "metadata": {},
   "outputs": [],
   "source": [
    "def procesar_dataframe_interacciones(df):\n",
    "    \"\"\"\n",
    "    Procesa un DataFrame seleccionando columnas específicas y renombrando una columna.\n",
    "\n",
    "    Parámetros:\n",
    "        df (pd.DataFrame): DataFrame a procesar.\n",
    "\n",
    "    Retorna:\n",
    "        pd.DataFrame: El DataFrame procesado.\n",
    "    \"\"\"\n",
    "    # Columnas a conservar\n",
    "    columnas_deseadas = ['id', 'user', 'channel', 'from', 'duration', 'server', 'type', 'device', 'shared', 'state']\n",
    "    \n",
    "    # Seleccionar las columnas deseadas\n",
    "    df = df.loc[:, columnas_deseadas]\n",
    "    \n",
    "    # Renombrar la columna 'user' a 'idusuarios'\n",
    "    df.rename(columns={'user': 'idusuarios'}, inplace=True)\n",
    "    \n",
    "    return df\n"
   ]
  },
  {
   "cell_type": "code",
   "execution_count": null,
   "id": "c98e4d79",
   "metadata": {},
   "outputs": [],
   "source": [
    "procesar_dataframe_interacciones(hab)"
   ]
  },
  {
   "cell_type": "code",
   "execution_count": null,
   "id": "8a0776f7",
   "metadata": {},
   "outputs": [],
   "source": [
    "print(hab.columns)\n"
   ]
  },
  {
   "cell_type": "code",
   "execution_count": null,
   "id": "9407c818",
   "metadata": {},
   "outputs": [],
   "source": [
    "import os\n",
    "import pandas as pd\n",
    "\n",
    "def leer_unico_csv_canales(ruta):\n",
    "    \"\"\"\n",
    "    Lee un único archivo CSV en una carpeta específica y lo carga en un DataFrame.\n",
    "\n",
    "    Parámetros:\n",
    "        ruta (str): Ruta de la carpeta donde se encuentra el archivo CSV.\n",
    "\n",
    "    Retorna:\n",
    "        pd.DataFrame: DataFrame cargado desde el archivo CSV.\n",
    "                      Si no se encuentra el archivo o hay un error, retorna None.\n",
    "    \"\"\"\n",
    "    # Verifica si la ruta existe\n",
    "    if os.path.exists(ruta):\n",
    "        # Lista los archivos en la carpeta\n",
    "        archivos = [archivo for archivo in os.listdir(ruta) if archivo.endswith('.csv')]\n",
    "        \n",
    "        # Asegúrate de que solo hay un archivo CSV en la carpeta\n",
    "        if len(archivos) == 1:\n",
    "            archivo = archivos[0]\n",
    "            print(f\"Procesando archivo: {archivo}\")\n",
    "            \n",
    "            # Intentar leer el archivo CSV\n",
    "            try:\n",
    "                df = pd.read_csv(os.path.join(ruta, archivo), sep=';', on_bad_lines='skip', low_memory=False)\n",
    "                return df\n",
    "            except Exception as e:\n",
    "                print(f\"Error al procesar el archivo {archivo}: {e}\")\n",
    "                return None\n",
    "        elif len(archivos) == 0:\n",
    "            print(\"No se encontró ningún archivo CSV en la carpeta.\")\n",
    "            return None\n",
    "        else:\n",
    "            print(\"Hay más de un archivo CSV en la carpeta. Por favor, asegúrate de que solo haya uno el mas actulizado.\")\n",
    "            return None\n",
    "    else:\n",
    "        print(\"La carpeta no existe.\")\n",
    "        return None\n",
    "\n"
   ]
  },
  {
   "cell_type": "code",
   "execution_count": null,
   "id": "1140b72f",
   "metadata": {},
   "outputs": [],
   "source": [
    "df_3 =leer_unico_csv_canales(carpeta_3)"
   ]
  },
  {
   "cell_type": "code",
   "execution_count": null,
   "id": "f8b8bf56",
   "metadata": {},
   "outputs": [],
   "source": [
    "def seleccionar_columnas_canales(df):\n",
    "    \"\"\"\n",
    "    Selecciona columnas específicas de un DataFrame.\n",
    "\n",
    "    Parámetros:\n",
    "        df (pd.DataFrame): DataFrame de entrada.\n",
    "\n",
    "    Retorna:\n",
    "        pd.DataFrame: DataFrame con solo las columnas seleccionadas.\n",
    "    \"\"\"\n",
    "    # Definir las columnas deseadas\n",
    "    columnas_deseadas = ['id', 'active', 'type', 'name', 'externalId', 'epgProviderId', 'channelGroup']\n",
    "    \n",
    "    # Verificar que las columnas existan en el DataFrame\n",
    "    columnas_existentes = [col for col in columnas_deseadas if col in df.columns]\n",
    "    \n",
    "    # Seleccionar las columnas existentes\n",
    "    df_modificado = df[columnas_existentes]\n",
    "    \n",
    "    return df_modificado\n"
   ]
  },
  {
   "cell_type": "code",
   "execution_count": null,
   "id": "f164696c",
   "metadata": {},
   "outputs": [],
   "source": [
    "seleccionar_columnas_canales(df_3)"
   ]
  },
  {
   "cell_type": "code",
   "execution_count": null,
   "id": "ddad487a",
   "metadata": {},
   "outputs": [],
   "source": [
    "import os\n",
    "import pandas as pd\n",
    "\n",
    "def guardar_dataframe_interactivo(df, ruta_carpeta):\n",
    "    \"\"\"\n",
    "    Guarda un DataFrame en un archivo CSV en una carpeta específica.\n",
    "    Solicita al usuario el nombre del archivo. Si la carpeta no existe, la crea.\n",
    "\n",
    "    Parámetros:\n",
    "        df (pd.DataFrame): El DataFrame a guardar.\n",
    "        ruta_carpeta (str): Ruta de la carpeta donde se guardará el archivo. Por defecto es 'new_data'.\n",
    "\n",
    "    Retorna:\n",
    "        str: Ruta completa del archivo guardado.\n",
    "    \"\"\"\n",
    "    # Pedir al usuario el nombre del archivo\n",
    "    nombre_archivo = input(\"Por favor, introduce el nombre del archivo (con extensión .csv): \")\n",
    "    \n",
    "    # Asegurarse de que el nombre del archivo termine con '.csv'\n",
    "    if not nombre_archivo.endswith('.csv'):\n",
    "        nombre_archivo += '.csv'\n",
    "    \n",
    "    # Verificar si la carpeta existe; si no, crearla\n",
    "    if not os.path.exists(ruta_carpeta):\n",
    "        os.makedirs(ruta_carpeta)\n",
    "        print(f\"Carpeta creada: {ruta_carpeta}\")\n",
    "    else:\n",
    "        print(f\"Carpeta existente: {ruta_carpeta}\")\n",
    "    \n",
    "    # Construir la ruta completa del archivo\n",
    "    ruta_completa = os.path.join(ruta_carpeta, nombre_archivo)\n",
    "    \n",
    "    # Guardar el DataFrame en un archivo CSV con el separador ';'\n",
    "    df.to_csv(ruta_completa, sep=';', index=False)\n",
    "    print(f\"Archivo guardado en: {ruta_completa}\")\n",
    "    \n",
    "    return ruta_completa\n"
   ]
  },
  {
   "cell_type": "code",
   "execution_count": null,
   "id": "9f1edb8a",
   "metadata": {},
   "outputs": [],
   "source": [
    "carpeta_4=\"../data/new_data\""
   ]
  },
  {
   "cell_type": "code",
   "execution_count": null,
   "id": "c901f405",
   "metadata": {},
   "outputs": [],
   "source": [
    "guardar_dataframe_interactivo(df_3,carpeta)"
   ]
  },
  {
   "cell_type": "markdown",
   "id": "044f9144",
   "metadata": {},
   "source": [
    "# prueba de pip line \n"
   ]
  },
  {
   "cell_type": "code",
   "execution_count": null,
   "id": "b924179b",
   "metadata": {},
   "outputs": [],
   "source": [
    "# Especifica la ruta de la carpeta\n",
    "carpeta = \"../data/Usuarios\"\n",
    "carpeta_2 = \"../data/tabala_de_hechos/Diciembre/Diciembre\"\n",
    "carpeta_3 = \"../data/canales\""
   ]
  },
  {
   "cell_type": "markdown",
   "id": "5f69ce1d",
   "metadata": {},
   "source": [
    "## Funciones"
   ]
  },
  {
   "cell_type": "code",
   "execution_count": null,
   "id": "a5e9d2c5",
   "metadata": {},
   "outputs": [],
   "source": [
    "combinar_csv_interacciones\n",
    "combinar_csv_y_agregar_fecha\n",
    "procesar_dataframe_interacciones\n",
    "mapear_ciudades_a_estados\n",
    "leer_unico_csv_canales\n",
    "rellenar_valores_nulos\n",
    "procesar_dataframe_usuarios"
   ]
  },
  {
   "cell_type": "code",
   "execution_count": null,
   "id": "4f28f10f",
   "metadata": {},
   "outputs": [],
   "source": [
    "df_interacciones = combinar_csv_interacciones(carpeta_2)\n",
    "df_interacciones_porcesado = procesar_dataframe_interacciones(df_interacciones)\n",
    "guardar_dataframe_interactivo(df_interacciones_porcesado,carpeta_4)\n",
    "df_usuarios = combinar_csv_y_agregar_fecha(carpeta)\n",
    "df_usuarios_colum = procesar_dataframe_usuarios(df_usuarios)\n",
    "df_usuarios_map = mapear_ciudades_a_estados(df_usuarios_colum,estados_venezuela)\n",
    "df_usuarios_map_nulos = rellenar_valores_nulos(df_usuarios_map)\n",
    "guardar_dataframe_interactivo(df_usuarios_map_nulos, carpeta_4)\n",
    "df_canales = leer_unico_csv_canales(carpeta_3)\n",
    "df_canales_new = seleccionar_columnas_canales(df_canales)\n",
    "guardar_dataframe_interactivo(df_canales_new,carpeta_4)"
   ]
  },
  {
   "cell_type": "code",
   "execution_count": null,
   "id": "12638338",
   "metadata": {},
   "outputs": [],
   "source": []
  },
  {
   "cell_type": "code",
   "execution_count": null,
   "id": "4636bf5d",
   "metadata": {},
   "outputs": [],
   "source": []
  },
  {
   "cell_type": "code",
   "execution_count": null,
   "id": "6060e27a",
   "metadata": {},
   "outputs": [],
   "source": []
  },
  {
   "cell_type": "code",
   "execution_count": null,
   "id": "6f05bc19",
   "metadata": {},
   "outputs": [],
   "source": []
  }
 ],
 "metadata": {
  "kernelspec": {
   "display_name": "Python (m2_env - jose)",
   "language": "python",
   "name": "m2_env"
  },
  "language_info": {
   "codemirror_mode": {
    "name": "ipython",
    "version": 3
   },
   "file_extension": ".py",
   "mimetype": "text/x-python",
   "name": "python",
   "nbconvert_exporter": "python",
   "pygments_lexer": "ipython3",
   "version": "3.10.15"
  }
 },
 "nbformat": 4,
 "nbformat_minor": 5
}
