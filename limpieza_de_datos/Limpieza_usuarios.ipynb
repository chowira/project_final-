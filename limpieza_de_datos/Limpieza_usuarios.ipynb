{
 "cells": [
  {
   "cell_type": "markdown",
   "id": "86db9cfb",
   "metadata": {},
   "source": [
    "#  Limpieza tabla usuarios - prueba"
   ]
  },
  {
   "cell_type": "code",
   "execution_count": null,
   "id": "48753c26",
   "metadata": {},
   "outputs": [],
   "source": [
    "import pandas as pd"
   ]
  },
  {
   "cell_type": "markdown",
   "id": "3027f34b",
   "metadata": {},
   "source": [
    "## Pasos a seguir en la tablas Usuarios:\n",
    "* Cambiar id por id usaurio \n",
    "* Agregar Columna de fecha\n",
    "* Solo conservar las columnas idusuarios ,active, registered, city, country y fecha\n",
    "* Concatener las tablas en una sola "
   ]
  },
  {
   "cell_type": "code",
   "execution_count": null,
   "id": "7c26aad4",
   "metadata": {},
   "outputs": [],
   "source": [
    "paht_1 = '../data/Usuarios/Users-2024-12-01.csv'  # leemos el archivo csv que está en la carpeta data\n",
    "Usuarios_1 = pd.read_csv(paht_1, sep=\";\", on_bad_lines='skip')\n"
   ]
  },
  {
   "cell_type": "code",
   "execution_count": null,
   "id": "ddc5bb83",
   "metadata": {
    "scrolled": true
   },
   "outputs": [],
   "source": [
    "# Agregar nueva columna con la fecha del día\n",
    "Usuarios_1.loc[:, 'fecha'] = '2024-12-01'\n",
    "\n",
    "\n"
   ]
  },
  {
   "cell_type": "code",
   "execution_count": null,
   "id": "e4167793",
   "metadata": {},
   "outputs": [],
   "source": [
    "paht_2 = '../data/Usuarios/Users-2024-12-02.csv'  # leemos el archivo csv que está en la carpeta data\n",
    "Usuarios_2 = pd.read_csv(paht_2, sep=\";\", on_bad_lines='skip')\n"
   ]
  },
  {
   "cell_type": "code",
   "execution_count": null,
   "id": "dbce596c",
   "metadata": {},
   "outputs": [],
   "source": [
    "# Agregar nueva columna con la fecha del día\n",
    "Usuarios_2.loc[:, 'fecha'] = '2024-12-02'"
   ]
  },
  {
   "cell_type": "code",
   "execution_count": null,
   "id": "9cb1a556",
   "metadata": {},
   "outputs": [],
   "source": [
    "Usuarios_2"
   ]
  },
  {
   "cell_type": "code",
   "execution_count": null,
   "id": "d97c8b19",
   "metadata": {},
   "outputs": [],
   "source": [
    "paht_3 = '../data/Usuarios/Users-2024-12-03.csv'  # leemos el archivo csv que está en la carpeta data\n",
    "Usuarios_3 = pd.read_csv(paht_3, sep=\";\", on_bad_lines='skip')\n"
   ]
  },
  {
   "cell_type": "code",
   "execution_count": null,
   "id": "602a8cb8",
   "metadata": {},
   "outputs": [],
   "source": [
    "# Agregar nueva columna con la fecha del día\n",
    "Usuarios_3.loc[:, 'fecha'] = '2024-12-03'"
   ]
  },
  {
   "cell_type": "code",
   "execution_count": null,
   "id": "65b13270",
   "metadata": {},
   "outputs": [],
   "source": [
    "paht_4 = '../data/Usuarios/Users-2024-12-04.csv'  # leemos el archivo csv que está en la carpeta data\n",
    "Usuarios_4 = pd.read_csv(paht_4, sep=\";\", on_bad_lines='skip')\n"
   ]
  },
  {
   "cell_type": "code",
   "execution_count": null,
   "id": "33450965",
   "metadata": {},
   "outputs": [],
   "source": [
    "# Agregar nueva columna con la fecha del día\n",
    "Usuarios_4.loc[:, 'fecha'] = '2024-12-04'"
   ]
  },
  {
   "cell_type": "code",
   "execution_count": null,
   "id": "080e6626",
   "metadata": {},
   "outputs": [],
   "source": [
    "paht_5 = '../data/Usuarios/Users-2024-12-05.csv'  # leemos el archivo csv que está en la carpeta data\n",
    "Usuarios_5 = pd.read_csv(paht_5, sep=\";\", on_bad_lines='skip')\n"
   ]
  },
  {
   "cell_type": "code",
   "execution_count": null,
   "id": "c8070da2",
   "metadata": {},
   "outputs": [],
   "source": [
    "# Agregar nueva columna con la fecha del día\n",
    "Usuarios_5.loc[:, 'fecha'] = '2024-12-05'"
   ]
  },
  {
   "cell_type": "code",
   "execution_count": null,
   "id": "c7714326",
   "metadata": {},
   "outputs": [],
   "source": [
    "paht_6 = '../data/Usuarios/Users-2024-12-06.csv'  # leemos el archivo csv que está en la carpeta data\n",
    "Usuarios_6 = pd.read_csv(paht_6, sep=\";\", on_bad_lines='skip')\n"
   ]
  },
  {
   "cell_type": "code",
   "execution_count": null,
   "id": "23aa4d8e",
   "metadata": {},
   "outputs": [],
   "source": [
    "# Agregar nueva columna con la fecha del día\n",
    "Usuarios_6.loc[:, 'fecha'] = '2024-12-06'"
   ]
  },
  {
   "cell_type": "code",
   "execution_count": null,
   "id": "f80d089f",
   "metadata": {},
   "outputs": [],
   "source": [
    "paht_7 = '../data/Usuarios/Users-2024-12-06.csv'  # leemos el archivo csv que está en la carpeta data\n",
    "Usuarios_7= pd.read_csv(paht_7, sep=\";\", on_bad_lines='skip')\n"
   ]
  },
  {
   "cell_type": "code",
   "execution_count": null,
   "id": "a60325b7",
   "metadata": {},
   "outputs": [],
   "source": [
    "# Agregar nueva columna con la fecha del día\n",
    "Usuarios_7.loc[:, 'fecha'] = '2024-12-07'"
   ]
  },
  {
   "cell_type": "code",
   "execution_count": null,
   "id": "68f2b121",
   "metadata": {},
   "outputs": [],
   "source": [
    "\n",
    "# Combinar los DataFrames\n",
    "Usuarios_finales = pd.concat([Usuarios_1, Usuarios_2, Usuarios_3, Usuarios_4, Usuarios_5, Usuarios_6, Usuarios_7], ignore_index=True)\n"
   ]
  },
  {
   "cell_type": "code",
   "execution_count": null,
   "id": "8d5b7b93",
   "metadata": {
    "scrolled": true
   },
   "outputs": [],
   "source": [
    "Usuarios_finales"
   ]
  },
  {
   "cell_type": "code",
   "execution_count": null,
   "id": "5017d237",
   "metadata": {},
   "outputs": [],
   "source": [
    "# Renombrar la columna 'id' a 'idusuarios' en el DataFrame unido\n",
    "Usuarios_finales.rename(columns={'id': 'idusuarios'}, inplace=True)\n",
    "\n",
    "# Conservar solo las columnas especificadas\n",
    "columnas_a_conservar = ['idusuarios', 'active', 'registered', 'city', 'country',\"fecha\"]\n",
    "Usuarios_finales = Usuarios_finales.loc[:, columnas_a_conservar]"
   ]
  },
  {
   "cell_type": "code",
   "execution_count": null,
   "id": "7905df4d",
   "metadata": {},
   "outputs": [],
   "source": [
    "Usuarios_finales"
   ]
  },
  {
   "cell_type": "code",
   "execution_count": null,
   "id": "a6d2a99b",
   "metadata": {},
   "outputs": [],
   "source": [
    "\n",
    "\n",
    "# Eliminar espacios en blanco en la columna 'city'\n",
    "Usuarios_finales['city'] = Usuarios_finales['city'].str.strip()\n",
    "\n",
    "# Reemplazar valores NaN en la columna 'city' por 'desconocido'\n",
    "Usuarios_finales['city'] = Usuarios_finales['city'].fillna('desconocido')\n",
    "\n",
    "# Mostrar el DataFrame actualizado\n",
    "print(Usuarios_finales)\n"
   ]
  },
  {
   "cell_type": "code",
   "execution_count": null,
   "id": "715777ea",
   "metadata": {},
   "outputs": [],
   "source": [
    "# Convertir todo a minúsculas en la columna 'city'\n",
    "Usuarios_finales['city'] = Usuarios_finales['city'].str.lower()"
   ]
  },
  {
   "cell_type": "code",
   "execution_count": null,
   "id": "3850e7d7",
   "metadata": {},
   "outputs": [],
   "source": [
    "# Obtener la cantidad de registros para cada categoría única en la columna 'city'\n",
    "ciudades_conteo = Usuarios_finales['city'].value_counts()\n",
    "\n",
    "print(\"Categorías de ciudades y cantidad de registros:\")\n",
    "print(ciudades_conteo)\n",
    "\n",
    "\n"
   ]
  },
  {
   "cell_type": "code",
   "execution_count": null,
   "id": "e6fe1dd9",
   "metadata": {},
   "outputs": [],
   "source": [
    "# Obtener el número de categorías únicas en la columna 'city'\n",
    "num_categorias_city = Usuarios_finales['city'].nunique()\n",
    "\n",
    "print(\"Número de categorías únicas en la columna 'city':\", num_categorias_city)\n"
   ]
  },
  {
   "cell_type": "code",
   "execution_count": null,
   "id": "c098e46a",
   "metadata": {
    "scrolled": true
   },
   "outputs": [],
   "source": [
    "# Obtener las categorías únicas en la columna 'city'\n",
    "categorias_city = Usuarios_finales['city'].unique()\n",
    "\n",
    "# Imprimir las categorías únicas\n",
    "print(\"Categorías únicas en la columna 'city':\")\n",
    "for categoria in categorias_city:\n",
    "    print(categoria)\n"
   ]
  },
  {
   "cell_type": "code",
   "execution_count": null,
   "id": "0991710c",
   "metadata": {},
   "outputs": [],
   "source": []
  },
  {
   "cell_type": "code",
   "execution_count": null,
   "id": "ae9b5849",
   "metadata": {},
   "outputs": [],
   "source": [
    "estados_venezuela = {\n",
    "    \"Amazonas\":[\"puerto ayacucho\",\"guayana\"],\n",
    "    \"Anzoátegui\":[\"el trigre\",\"anaco\",\"barcelona\",\"el tigrito\",\"lecheria\",\"puerto la cruz\",\"aragua de barcelona\"],\n",
    "    \"Apure\":[\"san fernando de apure\",\"san fernando\",\"araure\"],\n",
    "    \"Aragua\":[\"maracay\",\"palo negro\",\"turmero\",\"maeacay\",\"la victoria\",\"cagua\",\"la morita1\",\"aragua\",\"la victoria edo aragua\",\"maracay.\",\"el consejo estado aragua\",\"santa rita maracay\",\"turmero, estado aragua\",\"la victoria aragua\",\"maracay- turmero\",\"palo negrro\",\"santa rita aragua\",\"yagua\",\"palo negro, aragua\",\"el limón\",\"maracay edo aragua\",\"msracay\",\"msracay\",\"palo negro - aragua\",\"maracay aragua\",\"caguas\"],\n",
    "    \"Barinas\":[\"barinas\"],\n",
    "    \"Bolívar\":[\"puerto ordaz\",\"ciudad bolivar\",\"ciudad guayana\",\"ciudad bolívar\"],\n",
    "    \"Carabobo\":[\"moron\",\"valencia\",\"guacara\",\"montalban\",\"puerto cabello\",\"carabobo\",\"naguanagua\",\"puerto cabello carabobo\",\"carrizal\",\"san diego\",\"los guayos\",\"valencia edo. carabobo\",\"valencia,  naguanagua\",\"valencia. venezuela\",\"valencia. venezuela\",\"san joaquin\",\"san diego de los altos\",\"valencia estado carabobo\",\"valencia , los guayos\",\"valencia, edo. carabobo\",\"san joaquin, estado carabobo\",\"ciudad alianza\",\"naguanagua. estado carabobo\",\"puerto cabell\",\"san joaquin*\",\"san joaquin\",\"valencia, carabobo\",\"nagauanagua\",\"ciudad zamora mzna. 4-f\",\"san digo\",\"san diego carabobo\",\"nagua\",\"urb. el bosque. valencia edo. carabobo\",\"guacara edo carabobo\",\"puerto  cabello\",\"valenciq\"],\n",
    "    \"Cojedes\":[\"san carlos\",\"tinaco\",\"tinaquillo\"],\n",
    "    \"Delta Amacuro\":[\"tucupita\"],\n",
    "    \"Desconocidos\":[\"desconocido\",\"primero de mayo\",\"venezuela\",\"urb. los cocos sur\",\"la vaquera\",\"cjto. res. ops torre 3\",\"468\",\"el consejo\",\"palavecino\",\"allen\",\"san rafael de carvajal,/ carvajal\",\"11201663\",\"mario briceño iragorry\",\"cordero lomas blanca\",\"la concepcion\",\"13912257\",\"barcel\",\"el concejo\",\"libertad\",\"30\",\"275\",\"hhhhhh\",\"plc\",\"la concepción\",\"parroquia santa teresa\",\"peribeca\",\"san rafael del mojan\",\"4\",\"ciudad\",\"ed. mar azul t-b\"],\n",
    "    \"Falcón\":[\"punto fijo\",\"churuguara\",\"coro\",\"chichiriviche\",\"la vela de coro\",\"santa ana de coro\"],\n",
    "    \"Guárico\":[\"san juan de los morros\",\"altagracia de orituco\"],\n",
    "    \"Lara\":[\"carora\",\"cabudare\",\"barquisimeto\",\"barquisimeto gxtest2al\",\"barquisimeto gxtes2al\",\"cabudare estado lara\",\"iribarren\",\"cabude\",\"barquisimeto*\",\"bqto\"],\n",
    "    \"Mérida\":[\"merida\",\"mérida\",\"el vigia\",\"ejido, mérida\",\"mérida, venezuela\"],\n",
    "    \"Miranda\":[\"guanares\",\"charallave\",\"los teques\";\"guatire\",\"miranda\",\"san antonio de los altos\",\"carrizal, estado miranda\",\"guarenas, miranda\",\"cuarenas\",\"guarenas, edo. miranda\",\"ciudad casarapa\",\"ocumare del tuy\",\"mariche\",\"guatires\",\"san antonio\",\"san josé d/los altos\",\"gurenas\",\"san josé de los altos\",\"los teqes\",\"guatire, edo miranda, venezuela\",\"*los teques\",\"guatire, edo. miranda. venezuela\",\"altos mirandinos\",\"higuerote\"],\n",
    "    \"Monagas\":[\"maturin\",\"maturín\"],\n",
    "    \"Nueva Esparta\":[\"margarita\",\"porlamar\",\"pampatar\",\"catia la mar\"],\n",
    "    \"Portuguesa\":[\"guanare\",\"acarigua\"],\n",
    "    \"Sucre\":[\"cumana\",\"cumanacoa\",\"municipio sucre\",\"carupano\",\"cumaná\",\"sucre\"],\n",
    "    \"Táchira\":[\"san cristobal\",\"san cristóbal\",\"tachira\",\"capacho\",\"tariba\",\"los rastrojos\",\"cordero\",\"táriba\",\"caneyes\",\"táchira\",\"tucape\",\"san rafael cárdenas tachira venezuela\",\"san cristobal edo tachira\",\"capacho viejo\",\"san cristobal de tac\"],\n",
    "    \"Trujillo\":[\"valera\"]\n",
    "    \"Vargas (La Guaira)\":[\"la guaira\",\"vargas\",\"maiquetía, estado la guaira\"]\n",
    "    \"Yaracuy\":[\"san felipe\",\"chivacoa\",\"yaritagua\"]\n",
    "    \"Zulia\":[\"cabimas\",\"maracaibo\",\"zulia\",\"ciudad ojeda\",\"santa rita\",\"ciudad ojeda.\",\"ojeda\",\"maraxaibo\",\"maracaibo*\"],\n",
    "    \"Distrito Capital (Caracas)\":[\"caracas\",\"caracass\",\"el hatillo\",\"csracas\",\"la tahona\",\"edif virrey, calle caurimare , caracas\",\"gran caracas\",\"caracas venezuela\",\"caricuao\",\"baruta\",\"libertador\",\"caracas gxtest2al\",\"distrito capital\",\"caracs\",\"caracas (miranda)\",\"maracas\",\"el hatillo-la unión\",\"baracas\",\"chacao\",\"la candelaria\",\"carcas\",\"municipio el hatillo\",\"caracas-baruta\",\"ccs\",\"la candelaria mbi\",\"el hatillo la unión corralito\",\"caraacs\",\"lagunillas\",\"caracas09966564\",\"caracas,\",\"caracas, el hatillo\",\"lagunillas\",\"urb. libertadores\",\"cara as\",\"caracas (d.c.)\"]\n",
    "    \"Internacionales\":[\"santiago\",\"la paz\",\"palmira\",\"ejido\",\"bogota\",\"sn francisco\",\"chile\",\"zamora\",\"miami\",\"san francisco\",\"girardot\",\"san. francisco\"]\n",
    "}\n"
   ]
  },
  {
   "cell_type": "code",
   "execution_count": null,
   "id": "abb83fc1",
   "metadata": {},
   "outputs": [],
   "source": []
  },
  {
   "cell_type": "code",
   "execution_count": null,
   "id": "b1df8947",
   "metadata": {},
   "outputs": [],
   "source": [
    "estados_venezuela= {\n",
    "    \"Amazonas\": [\"puerto ayacucho\", \"guayana\"],\n",
    "    \"Anzoátegui\": [\"el trigre\", \"anaco\", \"barcelona\", \"el tigrito\", \"lecheria\", \"puerto la cruz\", \"aragua de barcelona\"],\n",
    "    \"Apure\": [\"san fernando de apure\", \"san fernando\", \"araure\"],\n",
    "    \"Aragua\": [\"maracay\", \"palo negro\", \"turmero\", \"maeacay\", \"la victoria\", \"cagua\", \"la morita1\", \"aragua\", \"la victoria edo aragua\", \"maracay.\", \"el consejo estado aragua\", \"santa rita maracay\", \"turmero, estado aragua\", \"la victoria aragua\", \"maracay- turmero\", \"palo negrro\", \"santa rita aragua\", \"yagua\", \"palo negro, aragua\", \"el limón\", \"maracay edo aragua\", \"msracay\", \"msracay\", \"palo negro - aragua\", \"maracay aragua\", \"caguas\"],\n",
    "    \"Barinas\": [\"barinas\"],\n",
    "    \"Bolívar\": [\"puerto ordaz\", \"ciudad bolivar\", \"ciudad guayana\", \"ciudad bolívar\"],\n",
    "    \"Carabobo\": [\"moron\", \"valencia\", \"guacara\", \"montalban\", \"puerto cabello\", \"carabobo\", \"naguanagua\", \"puerto cabello carabobo\", \"carrizal\", \"san diego\", \"los guayos\", \"valencia edo. carabobo\", \"valencia, naguanagua\", \"valencia. venezuela\", \"valencia. venezuela\", \"san joaquin\", \"san diego de los altos\", \"valencia estado carabobo\", \"valencia, los guayos\", \"valencia, edo. carabobo\", \"san joaquin, estado carabobo\", \"ciudad alianza\", \"naguanagua. estado carabobo\", \"puerto cabell\", \"san joaquin*\", \"san joaquin\", \"valencia, carabobo\", \"nagauanagua\", \"ciudad zamora mzna. 4-f\", \"san digo\", \"san diego carabobo\", \"nagua\", \"urb. el bosque. valencia edo. carabobo\", \"guacara edo carabobo\", \"puerto cabello\", \"valenciq\",\"valencia,  naguanagua\",\"valencia , los guayos\",\"san joaquín\",\"guacaipuro\",\"puerto  cabello\"],\n",
    "    \"Cojedes\": [\"san carlos\", \"tinaco\", \"tinaquillo\"],\n",
    "    \"Delta Amacuro\": [\"tucupita\"],\n",
    "    \"Desconocidos\": [\"desconocido\", \"primero de mayo\", \"venezuela\", \"urb. los cocos sur\", \"la vaquera\", \"cjto. res. ops torre 3\", \"468\", \"el consejo\", \"palavecino\", \"allen\", \"san rafael de carvajal,/ carvajal\", \"11201663\", \"mario briceño iragorry\", \"cordero lomas blanca\", \"la concepcion\", \"13912257\", \"barcel\", \"el concejo\", \"libertad\", \"30\", \"275\", \"hhhhhh\", \"plc\", \"la concepción\", \"parroquia santa teresa\", \"peribeca\", \"san rafael del mojan\", \"4\", \"ciudad\", \"ed. mar azul t-b\"],\n",
    "    \"Falcón\": [\"punto fijo\", \"churuguara\", \"coro\", \"chichiriviche\", \"la vela de coro\", \"santa ana de coro\"],\n",
    "    \"Guárico\": [\"san juan de los morros\", \"altagracia de orituco\"],\n",
    "    \"Lara\": [\"carora\", \"cabudare\", \"barquisimeto\", \"barquisimeto gxtest2al\", \"barquisimeto gxtes2al\", \"cabudare estado lara\", \"iribarren\", \"cabude\", \"barquisimeto*\", \"bqto\"],\n",
    "    \"Mérida\": [\"merida\", \"mérida\", \"el vigia\", \"ejido, mérida\", \"mérida, venezuela\"],\n",
    "    \"Miranda\": [\"guanares\", \"charallave\", \"los teques\", \"guatire\", \"miranda\", \"san antonio de los altos\", \"carrizal, estado miranda\", \"guarenas, miranda\", \"cuarenas\", \"guarenas, edo. miranda\", \"ciudad casarapa\", \"ocumare del tuy\", \"mariche\", \"guatires\", \"san antonio\", \"san josé d/los altos\", \"gurenas\", \"san josé de los altos\", \"los teqes\", \"guatire, edo miranda, venezuela\", \"*los teques\", \"guatire, edo. miranda. venezuela\", \"altos mirandinos\", \"higuerote\"],\n",
    "    \"Monagas\": [\"maturin\", \"maturín\"],\n",
    "    \"Nueva Esparta\": [\"margarita\", \"porlamar\", \"pampatar\", \"catia la mar\"],\n",
    "    \"Portuguesa\": [\"guanare\", \"acarigua\"],\n",
    "    \"Sucre\": [\"cumana\", \"cumanacoa\", \"municipio sucre\", \"carupano\", \"cumaná\", \"sucre\"],\n",
    "    \"Táchira\": [\"san cristobal\", \"san cristóbal\", \"tachira\", \"capacho\", \"tariba\", \"los rastrojos\", \"cordero\", \"táriba\", \"caneyes\", \"táchira\", \"tucape\", \"san rafael cárdenas tachira venezuela\", \"san cristobal edo tachira\", \"capacho viejo\", \"san cristobal de tac\"],\n",
    "    \"Trujillo\": [\"valera\"],\n",
    "    \"Vargas (La Guaira)\": [\"la guaira\", \"vargas\", \"maiquetía, estado la guaira\"],\n",
    "    \"Yaracuy\": [\"san felipe\", \"chivacoa\", \"yaritagua\"],\n",
    "    \"Zulia\": [\"cabimas\", \"maracaibo\", \"zulia\", \"ciudad ojeda\", \"santa rita\", \"ciudad ojeda.\", \"ojeda\", \"maraxaibo\", \"maracaibo*\"],\n",
    "    \"Distrito Capital (Caracas)\": [\"caracas\", \"caracass\", \"el hatillo\", \"csracas\", \"la tahona\", \"edif virrey, calle caurimare , caracas\", \"gran caracas\", \"caracas venezuela\", \"caricuao\", \"baruta\", \"libertador\", \"caracas gxtest2al\", \"distrito capital\", \"caracs\", \"caracas (miranda)\", \"maracas\", \"el hatillo-la unión\", \"baracas\", \"chacao\", \"la candelaria\", \"carcas\", \"municipio el hatillo\", \"caracas-baruta\", \"ccs\", \"la candelaria mbi\", \"el hatillo la unión corralito\", \"caraacs\", \"lagunillas\", \"caracas09966564\", \"caracas,\", \"caracas, el hatillo\", \"lagunillas\", \"urb. libertadores\", \"cara as\", \"caracas (d.c.)\"],\n",
    "    \"Internacionales\": [\"santiago\", \"la paz\", \"palmira\", \"ejido\", \"bogota\", \"sn francisco\", \"chile\", \"zamora\", \"miami\", \"san francisco\", \"girardot\", \"san. francisco\"]\n",
    "}\n"
   ]
  },
  {
   "cell_type": "code",
   "execution_count": null,
   "id": "2b2c0ade",
   "metadata": {},
   "outputs": [],
   "source": [
    "\n",
    "Usuarios_finales['city'] = Usuarios_finales['city'].replace(estados_venezuela)\n",
    "\n",
    "# Mostrar el DataFrame actualizado\n",
    "print(Usuarios_finales)\n"
   ]
  },
  {
   "cell_type": "code",
   "execution_count": null,
   "id": "76172bf2",
   "metadata": {},
   "outputs": [],
   "source": [
    "Usuarios_finales"
   ]
  },
  {
   "cell_type": "code",
   "execution_count": null,
   "id": "5338b3aa",
   "metadata": {},
   "outputs": [],
   "source": [
    "\n",
    "# Función para reemplazar valores en base a claves del diccionario\n",
    "def reemplazar_por_clave(valor):\n",
    "    for key, value in estados_venezuela.items():\n",
    "        if valor in value:\n",
    "            return key\n",
    "    return valor\n",
    "\n",
    "# Aplicar la función a la columna 'city'\n",
    "Usuarios_finales['city'] = Usuarios_finales['city'].apply(reemplazar_por_clave)\n",
    "\n",
    "# Mostrar el DataFrame actualizado\n",
    "print(Usuarios_finales)\n"
   ]
  },
  {
   "cell_type": "code",
   "execution_count": null,
   "id": "cd638a20",
   "metadata": {},
   "outputs": [],
   "source": [
    "Usuarios_finales"
   ]
  },
  {
   "cell_type": "code",
   "execution_count": null,
   "id": "e7027f80",
   "metadata": {},
   "outputs": [],
   "source": [
    "# Obtener las categorías únicas en la columna 'city'\n",
    "categorias_city = Usuarios_finales['city'].unique()\n",
    "\n",
    "# Imprimir las categorías únicas\n",
    "print(\"Categorías únicas en la columna 'city':\")\n",
    "for categoria in categorias_city:\n",
    "    print(categoria)\n"
   ]
  },
  {
   "cell_type": "code",
   "execution_count": null,
   "id": "3610185d",
   "metadata": {},
   "outputs": [],
   "source": [
    "Usuarios_finales.to_csv('../data/modelo/usuarios_finales.csv', sep=';', index=False)\n"
   ]
  }
 ],
 "metadata": {
  "kernelspec": {
   "display_name": "Python [conda env:.conda-m1]",
   "language": "python",
   "name": "conda-env-.conda-m1-py"
  },
  "language_info": {
   "codemirror_mode": {
    "name": "ipython",
    "version": 3
   },
   "file_extension": ".py",
   "mimetype": "text/x-python",
   "name": "python",
   "nbconvert_exporter": "python",
   "pygments_lexer": "ipython3",
   "version": "3.10.14"
  }
 },
 "nbformat": 4,
 "nbformat_minor": 5
}
