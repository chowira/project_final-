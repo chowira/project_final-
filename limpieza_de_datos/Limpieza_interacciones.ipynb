{
 "cells": [
  {
   "cell_type": "code",
   "execution_count": null,
   "id": "8abf8a90",
   "metadata": {},
   "outputs": [],
   "source": [
    "import pandas as pd"
   ]
  },
  {
   "cell_type": "code",
   "execution_count": null,
   "id": "eeb9c06e",
   "metadata": {},
   "outputs": [],
   "source": [
    "\n",
    "\n",
    "\n",
    "paht_1 = '../data/tabala_de_hechos/Diciembre/Diciembre/channelUsage-2024-12-01.csv'  # leemos el archivo csv que está en la carpeta data\n",
    "df_1 = pd.read_csv(paht_1, sep=\";\", on_bad_lines='skip')\n"
   ]
  },
  {
   "cell_type": "code",
   "execution_count": null,
   "id": "af5e78df",
   "metadata": {},
   "outputs": [],
   "source": [
    "df_1"
   ]
  },
  {
   "cell_type": "markdown",
   "id": "81631297",
   "metadata": {},
   "source": [
    "## Probamos con los mismos 7 dias del mes de diciembre"
   ]
  },
  {
   "cell_type": "code",
   "execution_count": null,
   "id": "744058e5",
   "metadata": {},
   "outputs": [],
   "source": [
    "paht_2 = '../data/tabala_de_hechos/Diciembre/Diciembre/channelUsage-2024-12-02.csv'  # leemos el archivo csv que está en la carpeta data\n",
    "df_2 = pd.read_csv(paht_2, sep=\";\", on_bad_lines='skip')\n"
   ]
  },
  {
   "cell_type": "code",
   "execution_count": null,
   "id": "ecdddc3c",
   "metadata": {},
   "outputs": [],
   "source": [
    "paht_3 = '../data/tabala_de_hechos/Diciembre/Diciembre/channelUsage-2024-12-03.csv'  # leemos el archivo csv que está en la carpeta data\n",
    "df_3 = pd.read_csv(paht_3, sep=\";\", on_bad_lines='skip')\n"
   ]
  },
  {
   "cell_type": "code",
   "execution_count": null,
   "id": "20d1cb99",
   "metadata": {},
   "outputs": [],
   "source": [
    "paht_4 = '../data/tabala_de_hechos/Diciembre/Diciembre/channelUsage-2024-12-04.csv'  # leemos el archivo csv que está en la carpeta data\n",
    "df_4 = pd.read_csv(paht_4, sep=\";\", on_bad_lines='skip')\n"
   ]
  },
  {
   "cell_type": "code",
   "execution_count": null,
   "id": "f9e67e12",
   "metadata": {},
   "outputs": [],
   "source": [
    "paht_5 = '../data/tabala_de_hechos/Diciembre/Diciembre/channelUsage-2024-12-05.csv'  # leemos el archivo csv que está en la carpeta data\n",
    "df_5 = pd.read_csv(paht_5, sep=\";\", on_bad_lines='skip')\n"
   ]
  },
  {
   "cell_type": "code",
   "execution_count": null,
   "id": "974f2cd1",
   "metadata": {},
   "outputs": [],
   "source": [
    "paht_6 = '../data/tabala_de_hechos/Diciembre/Diciembre/channelUsage-2024-12-06.csv'  # leemos el archivo csv que está en la carpeta data\n",
    "df_6 = pd.read_csv(paht_6, sep=\";\", on_bad_lines='skip')\n"
   ]
  },
  {
   "cell_type": "code",
   "execution_count": null,
   "id": "7e093076",
   "metadata": {},
   "outputs": [],
   "source": [
    "paht_7 = '../data/tabala_de_hechos/Diciembre/Diciembre/channelUsage-2024-12-07.csv'  # leemos el archivo csv que está en la carpeta data\n",
    "df_7 = pd.read_csv(paht_7, sep=\";\", on_bad_lines='skip')\n"
   ]
  },
  {
   "cell_type": "markdown",
   "id": "fc83c2fd",
   "metadata": {},
   "source": [
    "## Unimos nuestras tablas para crear una unificada "
   ]
  },
  {
   "cell_type": "code",
   "execution_count": null,
   "id": "95009239",
   "metadata": {},
   "outputs": [],
   "source": [
    "# Combinar los DataFrames\n",
    "tabla_de_hechos_7_dias = pd.concat([df_1, df_2, df_3, df_4, df_5, df_6, df_7], ignore_index=True)\n"
   ]
  },
  {
   "cell_type": "code",
   "execution_count": null,
   "id": "f5c74fca",
   "metadata": {},
   "outputs": [],
   "source": [
    "tabla_de_hechos_7_dias"
   ]
  },
  {
   "cell_type": "markdown",
   "id": "d9e59d62",
   "metadata": {},
   "source": [
    "## Cambiamos el nombre user por idusuarios y dropeamos las coluumnas inecesarias"
   ]
  },
  {
   "cell_type": "code",
   "execution_count": null,
   "id": "e1bf08d0",
   "metadata": {
    "scrolled": false
   },
   "outputs": [],
   "source": [
    "columnas_deseadas = ['id', 'user', 'channel', 'from', 'duration', 'server', 'type', 'device', 'shared', 'state']\n",
    "tabla_de_hechos_7_dias = tabla_de_hechos_7_dias.loc[:, columnas_deseadas]\n",
    "\n",
    "# Renombra la columna 'user' a 'idusuarios'\n",
    "tabla_de_hechos_7_dias.rename(columns={'user': 'idusuarios'}, inplace=True)\n",
    "\n"
   ]
  },
  {
   "cell_type": "code",
   "execution_count": null,
   "id": "a0e0124c",
   "metadata": {},
   "outputs": [],
   "source": [
    "tabla_de_hechos_7_dias"
   ]
  },
  {
   "cell_type": "markdown",
   "id": "2e04e6de",
   "metadata": {},
   "source": [
    "## Guardamos el archivo modificado teniendo encuenta el separador "
   ]
  },
  {
   "cell_type": "code",
   "execution_count": null,
   "id": "739b35b8",
   "metadata": {},
   "outputs": [],
   "source": [
    "tabla_de_hechos_7_dias.to_csv('../data/modelo/tabla_de_hechos_7_dias.csv', sep=';', index=False)"
   ]
  }
 ],
 "metadata": {
  "kernelspec": {
   "display_name": "Python (m2_env - jose)",
   "language": "python",
   "name": "m2_env"
  },
  "language_info": {
   "codemirror_mode": {
    "name": "ipython",
    "version": 3
   },
   "file_extension": ".py",
   "mimetype": "text/x-python",
   "name": "python",
   "nbconvert_exporter": "python",
   "pygments_lexer": "ipython3",
   "version": "3.10.15"
  }
 },
 "nbformat": 4,
 "nbformat_minor": 5
}
